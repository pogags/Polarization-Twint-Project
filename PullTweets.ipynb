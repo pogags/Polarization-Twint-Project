{
 "cells": [
  {
   "cell_type": "code",
   "execution_count": null,
   "metadata": {},
   "outputs": [],
   "source": [
    "import twint\n",
    "import nest_asyncio\n",
    "import time"
   ]
  },
  {
   "cell_type": "markdown",
   "metadata": {},
   "source": [
    "**NOTE:** Due to the nature of the twint package and how it scrapes Twitter, this file can occasionally struggle with pulling every CSV correctly the first time. If a CSV is not being generated, simply try running the cell or the specific line of code to generate that CSV again. This may take one or several tries."
   ]
  },
  {
   "cell_type": "markdown",
   "metadata": {},
   "source": [
    "# Abortion"
   ]
  },
  {
   "cell_type": "code",
   "execution_count": null,
   "metadata": {},
   "outputs": [],
   "source": [
    "# Abortion Tweet Pulls\n",
    "nest_asyncio.apply()\n",
    "\n",
    "c = twint.Config()\n",
    "c.Search = \"abortion\"\n",
    "c.Limit = 500\n",
    "\n",
    "c.Since = '2016-10-01'\n",
    "c.Until = '2016-11-08'\n",
    "c.Custom[\"tweet\"]=[\"id\",\"created_at\",\"username\",\"tweet\"]\n",
    "\n",
    "c.Hide_output = True     # Hides Output\n",
    "\n",
    "c.Output = \"abortionTweets2016.csv\"\n",
    "c.Store_csv = True\n",
    "twint.run.Search(c)\n",
    "c.Output = \"abortionTweets2016.csv\"\n",
    "c.Store_csv = True\n",
    "\n",
    "time.sleep(1)"
   ]
  },
  {
   "cell_type": "code",
   "execution_count": null,
   "metadata": {},
   "outputs": [],
   "source": [
    "c.Since = '2017-10-01'\n",
    "c.Until = '2017-11-08'\n",
    "c.Output = \"abortionTweets2017.csv\"\n",
    "c.Store_csv = True\n",
    "twint.run.Search(c)\n",
    "\n",
    "time.sleep(1)"
   ]
  },
  {
   "cell_type": "code",
   "execution_count": null,
   "metadata": {},
   "outputs": [],
   "source": [
    "c.Since = '2018-10-01'\n",
    "c.Until = '2018-11-08'\n",
    "c.Output = \"abortionTweets2018.csv\"\n",
    "c.Store_csv = True\n",
    "twint.run.Search(c)\n",
    "\n",
    "time.sleep(1)"
   ]
  },
  {
   "cell_type": "code",
   "execution_count": null,
   "metadata": {},
   "outputs": [],
   "source": [
    "c.Since = '2019-10-01'\n",
    "c.Until = '2019-11-08'\n",
    "c.Output = \"abortionTweets2019.csv\"\n",
    "c.Store_csv = True\n",
    "twint.run.Search(c)\n",
    "\n",
    "time.sleep(1)"
   ]
  },
  {
   "cell_type": "code",
   "execution_count": null,
   "metadata": {},
   "outputs": [],
   "source": [
    "c.Since = '2020-10-01'\n",
    "c.Until = '2020-11-08'\n",
    "c.Output = \"abortionTweets2020.csv\"\n",
    "c.Store_csv = True\n",
    "twint.run.Search(c)\n",
    "\n",
    "time.sleep(1)"
   ]
  },
  {
   "cell_type": "markdown",
   "metadata": {},
   "source": [
    "# Gun Control"
   ]
  },
  {
   "cell_type": "code",
   "execution_count": null,
   "metadata": {},
   "outputs": [],
   "source": [
    "# Gun Control Tweet Pulls\n",
    "\n",
    "c.Search = \"gun control\"\n",
    "c.Since = '2016-10-01'\n",
    "c.Until = '2016-11-08'\n",
    "c.Output = \"gunTweets2016.csv\"\n",
    "c.Store_csv = True\n",
    "twint.run.Search(c)\n",
    "\n",
    "time.sleep(1)"
   ]
  },
  {
   "cell_type": "code",
   "execution_count": null,
   "metadata": {},
   "outputs": [],
   "source": [
    "c.Since = '2017-10-01'\n",
    "c.Until = '2017-11-08'\n",
    "c.Output = \"gunTweets2017.csv\"\n",
    "c.Store_csv = True\n",
    "twint.run.Search(c)\n",
    "\n",
    "time.sleep(1)"
   ]
  },
  {
   "cell_type": "code",
   "execution_count": null,
   "metadata": {},
   "outputs": [],
   "source": [
    "c.Since = '2018-10-01'\n",
    "c.Until = '2018-11-08'\n",
    "c.Output = \"gunTweets2018.csv\"\n",
    "c.Store_csv = True\n",
    "twint.run.Search(c)\n",
    "\n",
    "time.sleep(1)"
   ]
  },
  {
   "cell_type": "code",
   "execution_count": null,
   "metadata": {},
   "outputs": [],
   "source": [
    "c.Since = '2019-10-01'\n",
    "c.Until = '2019-11-08'\n",
    "c.Output = \"gunTweets2019.csv\"\n",
    "c.Store_csv = True\n",
    "twint.run.Search(c)\n",
    "\n",
    "time.sleep(1)"
   ]
  },
  {
   "cell_type": "code",
   "execution_count": null,
   "metadata": {},
   "outputs": [],
   "source": [
    "c.Since = '2020-10-01'\n",
    "c.Until = '2020-11-08'\n",
    "c.Output = \"gunTweets2020.csv\"\n",
    "c.Store_csv = True\n",
    "twint.run.Search(c)\n",
    "\n",
    "time.sleep(1)"
   ]
  },
  {
   "cell_type": "markdown",
   "metadata": {},
   "source": [
    "# Immigration\n"
   ]
  },
  {
   "cell_type": "code",
   "execution_count": null,
   "metadata": {},
   "outputs": [],
   "source": [
    "# Immigration Tweet Pulls\n",
    "\n",
    "c.Search = \"immigration\"\n",
    "c.Since = '2016-10-01'\n",
    "c.Until = '2016-11-08'\n",
    "c.Output = \"immigrationTweets2016.csv\"\n",
    "c.Store_csv = True\n",
    "twint.run.Search(c)\n",
    "\n",
    "time.sleep(1)\n",
    "\n",
    "c.Since = '2017-10-01'\n",
    "c.Until = '2017-11-08'\n",
    "c.Output = \"immigrationTweets2017.csv\"\n",
    "c.Store_csv = True\n",
    "twint.run.Search(c)\n",
    "\n",
    "time.sleep(1)\n",
    "\n",
    "c.Since = '2018-10-01'\n",
    "c.Until = '2018-11-08'\n",
    "c.Output = \"immigrationTweets2018.csv\"\n",
    "c.Store_csv = True\n",
    "twint.run.Search(c)\n",
    "\n",
    "time.sleep(1)\n",
    "\n",
    "c.Since = '2019-10-01'\n",
    "c.Until = '2019-11-08'\n",
    "c.Output = \"immigrationTweets2019.csv\"\n",
    "c.Store_csv = True\n",
    "twint.run.Search(c)\n",
    "\n",
    "time.sleep(1)\n",
    "\n",
    "c.Since = '2020-10-01'\n",
    "c.Until = '2020-11-08'\n",
    "c.Output = \"immigrationTweets2020.csv\"\n",
    "c.Store_csv = True\n",
    "twint.run.Search(c)\n",
    "\n",
    "time.sleep(1)"
   ]
  },
  {
   "cell_type": "markdown",
   "metadata": {},
   "source": [
    "# Education"
   ]
  },
  {
   "cell_type": "code",
   "execution_count": null,
   "metadata": {},
   "outputs": [],
   "source": [
    "# Education Tweet Pulls\n",
    "\n",
    "c.Search = \"education\"\n",
    "c.Since = '2016-10-01'\n",
    "c.Until = '2016-11-08'\n",
    "c.Output = \"educationTweets2016.csv\"\n",
    "c.Store_csv = True\n",
    "twint.run.Search(c)\n",
    "\n",
    "time.sleep(1)\n",
    "\n",
    "c.Since = '2017-10-01'\n",
    "c.Until = '2017-11-08'\n",
    "c.Output = \"educationTweets2017.csv\"\n",
    "c.Store_csv = True\n",
    "twint.run.Search(c)\n",
    "\n",
    "time.sleep(1)\n",
    "\n",
    "c.Since = '2018-10-01'\n",
    "c.Until = '2018-11-08'\n",
    "c.Output = \"educationTweets2018.csv\"\n",
    "c.Store_csv = True\n",
    "twint.run.Search(c)\n",
    "\n",
    "time.sleep(1)\n",
    "\n",
    "c.Since = '2019-10-01'\n",
    "c.Until = '2019-11-08'\n",
    "c.Output = \"educationTweets2019.csv\"\n",
    "c.Store_csv = True\n",
    "twint.run.Search(c)\n",
    "\n",
    "time.sleep(1)\n",
    "\n",
    "c.Since = '2020-10-01'\n",
    "c.Until = '2020-11-08'\n",
    "c.Output = \"educationTweets2020.csv\"\n",
    "c.Store_csv = True\n",
    "twint.run.Search(c)\n",
    "\n",
    "time.sleep(1)"
   ]
  },
  {
   "cell_type": "markdown",
   "metadata": {},
   "source": [
    "# Healthcare"
   ]
  },
  {
   "cell_type": "code",
   "execution_count": null,
   "metadata": {},
   "outputs": [],
   "source": [
    "# Healthcare Tweet Pulls\n",
    "\n",
    "c.Search = \"healthcare\"\n",
    "c.Since = '2016-10-01'\n",
    "c.Until = '2016-11-08'\n",
    "c.Output = \"healthcareTweets2016.csv\"\n",
    "c.Store_csv = True\n",
    "twint.run.Search(c)\n",
    "\n",
    "time.sleep(1)\n",
    "\n",
    "c.Since = '2017-10-01'\n",
    "c.Until = '2017-11-08'\n",
    "c.Output = \"healthcareTweets2017.csv\"\n",
    "c.Store_csv = True\n",
    "twint.run.Search(c)\n",
    "\n",
    "time.sleep(1)\n",
    "\n",
    "c.Since = '2018-10-01'\n",
    "c.Until = '2018-11-08'\n",
    "c.Output = \"healthcareTweets2018.csv\"\n",
    "c.Store_csv = True\n",
    "twint.run.Search(c)\n",
    "\n",
    "time.sleep(1)\n",
    "\n",
    "c.Since = '2019-10-01'\n",
    "c.Until = '2019-11-08'\n",
    "c.Output = \"healthcareTweets2019.csv\"\n",
    "c.Store_csv = True\n",
    "twint.run.Search(c)\n",
    "\n",
    "time.sleep(1)\n",
    "\n",
    "c.Since = '2020-10-01'\n",
    "c.Until = '2020-11-08'\n",
    "c.Output = \"healthcareTweets2020.csv\"\n",
    "c.Store_csv = True\n",
    "twint.run.Search(c)"
   ]
  }
 ],
 "metadata": {
  "kernelspec": {
   "display_name": "Python 3",
   "language": "python",
   "name": "python3"
  },
  "language_info": {
   "codemirror_mode": {
    "name": "ipython",
    "version": 3
   },
   "file_extension": ".py",
   "mimetype": "text/x-python",
   "name": "python",
   "nbconvert_exporter": "python",
   "pygments_lexer": "ipython3",
   "version": "3.8.5"
  }
 },
 "nbformat": 4,
 "nbformat_minor": 4
}
