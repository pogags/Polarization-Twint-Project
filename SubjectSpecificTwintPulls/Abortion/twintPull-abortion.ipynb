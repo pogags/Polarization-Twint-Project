{
 "cells": [
  {
   "cell_type": "code",
   "execution_count": 13,
   "metadata": {},
   "outputs": [
    {
     "name": "stdout",
     "output_type": "stream",
     "text": [
      "795777833851305985 2016-11-07 16:59:55 -0700 <aahoglund> Father Frank Pavone: Nothing Matters More for Christians When Voting Than Babies Killed by Abortion  https://t.co/Ma4SNAACL7\n",
      "795777787982467072 2016-11-07 16:59:44 -0700 <MERRYMAJESTY> Why You Should Vote For Hillary If You're Against Abortion  https://t.co/vGbZx7UIpO via @HuffPostPol\n",
      "795777771226140672 2016-11-07 16:59:40 -0700 <MadPiglet> @rickz731 @Lawrence_Zack Abortions for some, miniature American flags for others!\n",
      "795777733842321408 2016-11-07 16:59:31 -0700 <cqbok> @DimitriNosarev @cqbok @happi_hour_hero @realDonaldTrump @Koster4Missouri @EricGreitens If men could have babies abortion wouldn't b problem\n",
      "795777723163475968 2016-11-07 16:59:28 -0700 <JennDisorder> Abortions for some, tiny American flags for others!  https://t.co/KrZLUhLRJK\n",
      "795777529688813573 2016-11-07 16:58:42 -0700 <beatrizx97> @YoungFreed0m @DimitriNosarev @realDonaldTrump @periscopeco there's no difference between taking the pill and having an abortion.\n",
      "795777437883736064 2016-11-07 16:58:20 -0700 <YourGodnSaviour> @LadyTforever   Why didn't your mother have an abortion?  You're saying your mother made the wrong choice?   https://t.co/X6riEgjxln\n",
      "795777383714406401 2016-11-07 16:58:07 -0700 <Irisheyz77> @loveatfirstpage @andiABCs who had an abortion to hold a funeral for baby. Among other things\n",
      "795777323240812544 2016-11-07 16:57:53 -0700 <kleepaigerob> abortion:  never an easy choice  sometimes the best choice  ALWAYS a woman's choice\n",
      "795777186972176385 2016-11-07 16:57:20 -0700 <lambchop7777> @glennbeck go have another drink. You support abortion, criminals, HRCY. Is that what Mormons really believe?\n",
      "795777127098568704 2016-11-07 16:57:06 -0700 <cqbok> @DimitriNosarev @happi_hour_hero @realDonaldTrump @Koster4Missouri @EricGreitens What is an abortion monger?  No one wants abortion\n",
      "795777073000288256 2016-11-07 16:56:53 -0700 <zzzanny> Legit just heard a sophomore boy refer to rape&amp;incest as \"situations moms should teach daughters to stay out of so they dont need abortions\"\n",
      "795777068684296197 2016-11-07 16:56:52 -0700 <ImmortalTeresa> Girl sobbing her eyes out :\"I am pregnant, but dont worry i'll get an abortion/\"  Guy nonchalant: \"Yeah, isnt like, 400? We'll split it.\"\n",
      "795777013357445120 2016-11-07 16:56:39 -0700 <ProfMChung> @spulliam @washingtonpost abortion rate has been lowest under Obama since 1973\n",
      "795776979484246016 2016-11-07 16:56:31 -0700 <DezzieMondo> When you still contemplating abortion lol  https://t.co/DK4bfeQy44\n",
      "795776955434041348 2016-11-07 16:56:25 -0700 <SpectroliteVT> Catholic Priest: Catholics Can’t Vote for Pro-Abortion Candidates, Abortion is a “Non-Negotiable”  https://t.co/qlgTrTcwxn\n",
      "795776909925826562 2016-11-07 16:56:14 -0700 <razzberry2u21> @Lrihendry Before Applauding Hillary's Abortion Remarks, Know The One Fact She Ignored  https://t.co/iHLRL5WedF\n",
      "795776898676785153 2016-11-07 16:56:12 -0700 <miller197> HRC can't care about children while her favorite charity is PP; their main sorcery of income is abortion not women's health.#NeverHillary  https://t.co/Md3k644YpQ\n",
      "795776893832364032 2016-11-07 16:56:10 -0700 <Schmutzie_> @mustang_jake1 @ChrisRongey Presidents don't \"allow\" things. In the case of abortion, that's up to the judicial branch. Read a book.\n",
      "795776887771590656 2016-11-07 16:56:09 -0700 <LT_Misc> I am ASTOUNDED by the # of people who WANT TO DESTROY the #USA by voting for #OPEN_BORDERS and #ABORTION via #Hillary and #NeverTrump people\n",
      "[!] No more data! Scraping will stop now.\n",
      "found 0 deleted tweets in this search.\n"
     ]
    }
   ],
   "source": [
    "import twint\n",
    "import nest_asyncio\n",
    "\n",
    "nest_asyncio.apply()\n",
    "\n",
    "c = twint.Config()\n",
    "c.Search = \"abortion\"\n",
    "c.Limit = 500\n",
    "\n",
    "c.Since = '2016-10-01'\n",
    "c.Until = '2016-11-08'\n",
    "\n",
    "c.Custom[\"tweet\"]=[\"id\",\"created_at\",\"username\",\"tweet\"]\n",
    "c.Output = \"abortionTweets2016.csv\"\n",
    "c.Store_csv = True\n",
    "\n",
    "twint.run.Search(c)"
   ]
  },
  {
   "cell_type": "code",
   "execution_count": 7,
   "metadata": {},
   "outputs": [
    {
     "name": "stdout",
     "output_type": "stream",
     "text": [
      "928049361698697216 2017-11-07 16:59:44 -0700 <robpushor> Canada Allows Nationwide Sale of Dangerous Abortion Pill to Kill Unborn Babies Up to 9 Weeks Old  https://t.co/DJq3j7Gfog\n",
      "928049211622375425 2017-11-07 16:59:09 -0700 <RJDownard> @MikeBravoYanky @PragmaticBent @JaTapps @DannytheInfidel @AmethystAspie @Mogleeone @TautReason @mirandadied4u @rkdoctr @The_Bible_Geek @wallstreeter43 @BjarteBjorkum @DonaldKronos @ScientiaPercept @BertramBaxter66 @DAccampoFamily @FimusTauri @NoScienceDenial @LanaResistance @CollinOctantis @Sillymidoff49 @Biology95954229 @rachizzle_post @Happy_Agnostic @malo_j @A__Stout @AGTCnews @AtheistIdea @revresbo1 @Takethatjoe @DoubleDumas @JoeCienkowski @merz_steven @carlsmythe @ReplaceReligion @ProAntiTheist @indifferentnick @Seabeacon7 @DayvidMaxwell @DrCavanough @chris_method @Twitter @RichardDawkins So you're a moral relativist situational ethics guy now, Michael, re things like slavery? where absolute morality doesn't apply for all times?  &amp; btw Bible doesn't actually condemn abortion\n",
      "928049106773331969 2017-11-07 16:58:44 -0700 <GLU_BOT> Abortion should be grateful for me, and if they are.\n",
      "928049059197325314 2017-11-07 16:58:32 -0700 <RicciGeri> @ARud718 @enterprisenuc @TimCuthbertson Maybe in days when Democrats were Democrats - today's Democrats have embraced Margaret Singer, Saul Alinsky and Karl Marx, atheism, high taxation, progressive redistribution of salaries, abortion etc. etc. etc.\n",
      "928049054726189056 2017-11-07 16:58:31 -0700 <N16Breda> \"It has been a part of the history of every country, including Ireland....We don’t want to go back to an era of illegal backstreet abortions and infanticide.” (via @IrishTimes) Why we need to #repealthe8th   https://t.co/AC1F2Vavnm\n",
      "928049032722776064 2017-11-07 16:58:26 -0700 <HeleInfinite> Shirou is reborn again as a different person Kotomine found a child he could love. Kiritsugu was a man who tried and failed to become a moral machine,Sakura and Rin mirror the parable of the prodigal son Abortion debate Heroes die to signify the failure of ideals by harsh reality\n",
      "928049022404718593 2017-11-07 16:58:23 -0700 <bitsnpeaces2211> @MorgandyCovfefe @pamelaval You're right they're absolutely are but if those methods fail access to safe and legal abortion is my right\n",
      "928048946697478144 2017-11-07 16:58:05 -0700 <RiceNorm> Abortion Shenanigans  https://t.co/uy89iIyJdK  https://t.co/shiKzgxBEp\n",
      "928048833275289600 2017-11-07 16:57:38 -0700 <rosern2009> @OfensivelyTrue Then in your thinking, if it was socially agreed upon then abortion would not be legal. But again if it were not a fetus then your argument is valid, but it is a fetus and not a human life therefore your argument is baseless.\n",
      "928048818611945473 2017-11-07 16:57:35 -0700 <VincentBadalav> @LifeNewsHQ @CrystalDawn1273 If the young lady is in need of a mental health professional as result of abortion than the judge that gave the go ahead should pay.\n",
      "928048725301256192 2017-11-07 16:57:13 -0700 <Kissthiz> @VibeHi @FelineBengal This is disingenuous. There's more white women getting abortions than blacks.\n",
      "928048714811346945 2017-11-07 16:57:10 -0700 <RogerEvenson4> Kunis and her cunt boy showed their. ass on giving $$to an abortion machine in VP pences name.The ones the worthless bitch hurt was Jim Beam.\n",
      "928048621077090305 2017-11-07 16:56:48 -0700 <pgoings> @silvergrrrrl Actually, this is an easy one. People opposed to abortion are generally more dedicated than people opposed to gun sales.\n",
      "928048476990201861 2017-11-07 16:56:13 -0700 <SireOfSeth> State pays €30k in compensation to woman denied abortion in Ireland  https://t.co/U1TjO2CvUV\n",
      "928048473060016128 2017-11-07 16:56:12 -0700 <watawasteoftiem> Matter fact it need interest, matter fact it's nine inches Matter fact see our friendship based on business Pension, more pension, you're pinchin, my consensus Been relentless, fuck forgiveness, fuck your feelings Fuck your sources, all distortion, if you fuck it's more abortion\n",
      "928048439165947905 2017-11-07 16:56:04 -0700 <AnthonyZuccare1> @ThatsMorgan4U @BradJonesWriter @foxandfriends Abortion should be illegal unless rape or incest to many godless people out there that's a big problem\n",
      "928048351169384448 2017-11-07 16:55:43 -0700 <LaconicLeonidas> @deutoronomy28 @leadcapt @E_Reid35 @Kaepernick7 Agreed.  Democrats put in place. I don't agree with abortion whatsoever.\n",
      "928048257196003328 2017-11-07 16:55:21 -0700 <YashYouCan> the guys that condemn abortions be the same to beat off after they pray to God each night\n",
      "928048196357640199 2017-11-07 16:55:06 -0700 <3girls1tyler> At least you don’t have to fork over hundreds for an abortion  https://t.co/H11xaQTAzN\n",
      "928048188866560000 2017-11-07 16:55:05 -0700 <spanielloving> @FullFrontalSamB They prayed for Las Vegas too.  What did it get them?  More victims.  Better stick to abortion arguments, Paul baby.  At least save what's in a womb, right?  He makes me so MAD!!!!!\n",
      "[!] No more data! Scraping will stop now.\n",
      "found 0 deleted tweets in this search.\n"
     ]
    }
   ],
   "source": [
    "c.Since = '2017-10-01'\n",
    "c.Until = '2017-11-08'\n",
    "\n",
    "c.Output = \"abortionTweets2017.csv\"\n",
    "c.Store_csv = True\n",
    "\n",
    "twint.run.Search(c)"
   ]
  },
  {
   "cell_type": "code",
   "execution_count": 12,
   "metadata": {},
   "outputs": [
    {
     "name": "stdout",
     "output_type": "stream",
     "text": [
      "1060320971523936256 2018-11-07 16:59:54 -0700 <LifeNewsHQ> @geri_mattern @badlands_bob Can't defend abortion so you trash pro-life people.\n",
      "1060320931288154113 2018-11-07 16:59:44 -0700 <galdi50> Simon Harris deluded about the nature of his own abortion law  https://t.co/GTWGFdMqsw\n",
      "1060320896479449088 2018-11-07 16:59:36 -0700 <RBraceySherman> .@HollywdHealth is a resource for television and film writers so they can have more accurate narratives involving healthcare in their scripts. It was founded by @TheNormanLear who has done fabulous work to shift the stories told on screen, including abortion.\n",
      "1060320892234780672 2018-11-07 16:59:35 -0700 <ms_queenbitch0> Honestly whoever thinks “adoption over abortion” is more moral.... you literally made a child just to leave them. I’m sorry but ???? How it’s that more moral than not having a child at all?\n",
      "1060320869791293440 2018-11-07 16:59:29 -0700 <ErinWhiteside16> Northern Ireland: Abortion is not a crime  https://t.co/howNh0E4oh\n",
      "1060320860974825472 2018-11-07 16:59:27 -0700 <Likeitornotmama> @PercivalPenman @iDrewItUp Isn’t this a lot abortion? Meaning they want grand daughters that’s why they vote against abortion.\n",
      "1060320847792025601 2018-11-07 16:59:24 -0700 <DianaSc99717236> Two States Voted to Outlaw Abortion if Roe v. Wade Is Nixed  https://t.co/AyhmvzXnEU via @thedailybeast\n",
      "1060320797519155201 2018-11-07 16:59:12 -0700 <srhuk> @avatarswift I wonder if his own existence plays a part in his position on abortion in cases of incest\n",
      "1060320758646239232 2018-11-07 16:59:03 -0700 <AZLatina74> @peter_agambar @Alyssa_Milano The government not funding abortion is going “backwards”?  Good grief.   And no one is denying these services, only shifting the financial accountability.\n",
      "1060320755987050496 2018-11-07 16:59:02 -0700 <11GJM11> @stock73 I also want to point out that you liked that voters guide re:abortion and who to vote for on federal level based on abortion views. So not only are you not a nice guy, you're a hypocrite.\n",
      "1060320703663222785 2018-11-07 16:58:50 -0700 <itzallthezame> @Alyssa_Milano If they chose to not take birth control, got pregnant, and all of the sudden don’t want the baby, why in the fuck should Medicare have to cover it when they should be held responsible for their own actions/not being responsible🤔In Texas abortion has never been covered by Medicar\n",
      "1060320689352142848 2018-11-07 16:58:46 -0700 <fairyouis> @ItsLittleEgg its not drama, this political party affects people of color, women, immigrants, etc in america. the republican party is 90% white who believe in white supremacy, anti-abortion laws, deportation of immigrants, etc this is not something bts would want to be a part with lmfao\n",
      "1060320665461538816 2018-11-07 16:58:41 -0700 <Karenph72800285> @gorettifitzger1 @SimonHarrisTD None   a failed/student dropout  who lied about being prolife and  never supporting  legislation  for abortion to get him self elected as a TD . So a  deluded schoolboy   surrounded by  pro choicers  who tell him he's gr8  is our minister!\n",
      "1060320628744568832 2018-11-07 16:58:32 -0700 <joegooding> MORAL DECAY: How does abortion rank dead last in importance to voters in this poll? When only 2% of respondents consider the lives of unborn babies a vital issue, we have lost our moral compass. #FoxNews @realDonaldTrump @POTUS  https://t.co/4l6qocsNjf\n",
      "1060320601418752002 2018-11-07 16:58:25 -0700 <Abigail17441122> When we are not longer the highest maternal mortality rate in the industrialized world then these states can claim to be pro-life...#DeathAmendments.—-Two states passed abortion amendments to their constitutions in the midterm. What does that mean? - CNN  https://t.co/nZyzaz2VsT\n",
      "1060320588139380736 2018-11-07 16:58:22 -0700 <TIrishninjas> @dbrasco3180 @LifeNewsHQ Possibly because the law won’t protect against abortions due to race either. Or disability. Its literally eugenics.\n",
      "1060320547601551360 2018-11-07 16:58:13 -0700 <ArnesonMelissa> @KwikWarren It’s all about their (repubs) stand on abortion.\n",
      "1060320522305789952 2018-11-07 16:58:06 -0700 <WhatIsMattDoin> ‘pro-life’ doesn’t just mean anti-abortion.   ‘Pro-life’ means: -Ending abortion -Opposing war -Supporting immigrant lives -Supporting black lives  My belief that life matters does not begin with birth but it doesn’t end there.  Life matters outside the womb just as much as in\n",
      "1060320387077156864 2018-11-07 16:57:34 -0700 <KSNTNews> Woman who shot Kansas abortion doctor in 1993 freed from prison   https://t.co/x1tsjT36Ub  https://t.co/ljaSnfmPI8\n",
      "1060320361651171328 2018-11-07 16:57:28 -0700 <RBraceySherman> This morning, I had the honor of attending this @HollywdHealth &amp; @TelevisionAcad panel on abortion stories in television. How our abortion experiences are represented on screen is one of my favorite topics to discuss.  https://t.co/qcEf0nVjdA\n",
      "1060320359424000003 2018-11-07 16:57:28 -0700 <Ryannn_Natee> @maarinadel @nicolemkathleen Marina yes all those things can happen and have happened but what does that have to do with a healthy woman going into a clinic and saying I want an abortion? Those scenarios have nothing to do with a natural abortion!! The death of fetus at 2 weeks okay but it wasn’t clinical!!!\n",
      "1060320337529880576 2018-11-07 16:57:22 -0700 <thugpatriot> @missmayn It's been thewir agenda day one. Criminalize abortion, and then let's move on to making abortifacients and just overall reproductive care illegal. These people are the American Taliban, nothing more, and they're certainly not even in the orbit of Christianity.\n",
      "1060320334665011200 2018-11-07 16:57:22 -0700 <assmunching> anybody wanna impregnate me so i can have an abortion before it’s illegal\n",
      "1060320330873520128 2018-11-07 16:57:21 -0700 <RacketHuman> @aigkenham But yeah, the Bible is against abortion.  https://t.co/4DCC59mGgO\n",
      "1060320322925211648 2018-11-07 16:57:19 -0700 <g_kraig> Ireland Committee Votes to Allow Sex-Selection Abortions  https://t.co/IAIppvEbyR\n",
      "1060320293766479872 2018-11-07 16:57:12 -0700 <cryptozen_> @prolifecampaign @RENUAIreland @SimonHarrisTD will NEVER engage due to his conflict of interest in this abortion biz w/ @campaignforleo w/ Tony O'Brien Im not saying women shouldn't have healthcare what I am saying is that abortions on demand should not happen, will not happen women need care, not abortions #wakeupIreland\n",
      "1060320255069904904 2018-11-07 16:57:03 -0700 <IrishProLifeUSA> One more reason why Irish government will be tossed out at next general election -- 1 in 3 Irish voted against abortion; more see through Simon Harris's abortion con job and trickery. Ireland's humanity will reassert itself.\n",
      "1060320247998267393 2018-11-07 16:57:01 -0700 <mcowartlaw> @AlsoACarpenter @Cj060606 That is true and I agree that the Republican political ruling sub-class would rather fly the “abortion is murder” banner to motivate its base than really do anything about it. However, neither Congress nor the President can overturn SCt precedent.\n",
      "1060320245334896641 2018-11-07 16:57:00 -0700 <mellwit2Ls> @KierstenJ1994 @MeghanWalters14 You still didn’t acknowledge that these men are telling women if when they should have abortions or BC Pills? Why are you ok with them telling you or any woman what to do?\n",
      "1060320219753660416 2018-11-07 16:56:54 -0700 <Christinaofs> Now you can't hide abortion doesn't save women nor the baby thru science evidence.  But Democrats are great at hiding #TRUTH.\n",
      "1060320210329067520 2018-11-07 16:56:52 -0700 <g_kraig> Pro-Life Ted Cruz Defeats Abortion Activist Beto O’Rourke Despite Fawning Media Attention  https://t.co/NJ8ktKiu6r\n",
      "1060320189252722688 2018-11-07 16:56:47 -0700 <Acesmom1955> @bennyjohnson @Shaughn_A This is a Catholic woman who honors abortion. Enough said.\n",
      "1060320159628488704 2018-11-07 16:56:40 -0700 <PaigeLyall> @DonaldT73937711 @ajplus You want to try again. Google it free. 🤣🤣  In U.S. politics, the Hyde Amendment is a legislative provision barring the use of federal funds to pay for abortion except to save the life of the woman, or if the pregnancy arises from incest or rape.\n",
      "1060320135578292224 2018-11-07 16:56:34 -0700 <JRabhan> Alabama,  https://t.co/WKuQeR4w0U. voters approve anti-abortion amendments  https://t.co/Qh6vQe640Z\n",
      "1060320099855450115 2018-11-07 16:56:26 -0700 <Gabbyy_babyy510> @hayleyswiger @talindaloo People who care about that are just as selfish as those who get an abortion because they just don’t want it. Nobody should care to help if it means a child gets to keep their life. At least the mother cared enough to try and didn’t kill her own child.\n",
      "1060320071522893829 2018-11-07 16:56:19 -0700 <__winnell__> @herdmancat @geauxkkj I’m saying the amendment has articles within it the will FUND abortions under medical circumstances.\n",
      "1060320066712059906 2018-11-07 16:56:18 -0700 <Fiona7689Fiona> @StephenNolan Mental Health can be directly impacted by Northern Ireland's draconian abortion laws. Forcing a girl to have her rapist's baby isn't going to do much for her mental health. Joined-up thinking!\n",
      "1060320003608604673 2018-11-07 16:56:03 -0700 <g_kraig> “Catholics” for Choice Group Gets 50 Abortionists to Call Pope Francis a “Villain” for Opposing Abortion  https://t.co/tLhCHMMc5z\n",
      "1060319969441923072 2018-11-07 16:55:55 -0700 <SquatchQ> @Okkjess_ @rhiannurban @kaaiillaa_ @baileyt100 @Cbomb_18 So can we agree that you only want abortions for rape victims\n",
      "1060319952438202368 2018-11-07 16:55:51 -0700 <__winnell__> @herdmancat @geauxkkj If you have sex you should know that there is a chance to get pregnant, and if you can’t afford to have a child but still take the risk, it’s irresponsible. I don’t support any abortion.\n"
     ]
    },
    {
     "name": "stdout",
     "output_type": "stream",
     "text": [
      "1060319938672553985 2018-11-07 16:55:47 -0700 <sfdudeknows> Abortion is a polarizing isue. Generally, I dont believe in it, especially late term. But to each their own. If you are considering it, watch this   https://t.co/45XCscavZl\n",
      "1060319859953811456 2018-11-07 16:55:29 -0700 <MyaThompson_98> I’m all for pro-choice but some of y’all abortion joke are out of hand🥺\n",
      "1060319853863624704 2018-11-07 16:55:27 -0700 <jaquez_dani> Thick men with thick beards &gt;&gt; bird chest abortion lookin ass lil boys\n",
      "1060319840999620608 2018-11-07 16:55:24 -0700 <PhilBrown62> Two States Voted to Outlaw Abortion if Roe v. Wade Is Nixed  https://t.co/pZmRTzWHaQ via @thedailybeast\n",
      "1060319791188037632 2018-11-07 16:55:12 -0700 <ericasatifka> Two things I have seen almost no discussion on w/o seeking it out:  1. FL's Measure 4 (restoring voting rights to ex-felons - passed!) 2. New, even more draconian abortion laws in WV &amp; AL  One is good, one is bad, but if you're not a wonk you might never know they existed at all.\n",
      "1060319788549967873 2018-11-07 16:55:12 -0700 <WTeach2> More people voted to make sure the state funded abortions than those who voted for the governor  https://t.co/VGdp4qFoeH\n",
      "1060319763203870721 2018-11-07 16:55:05 -0700 <BubbleLad777> @Alyssa_Milano Why are you in favor of babies being butchered? They feel the excruciating pain when the abortion occurs.\n",
      "1060319757654769666 2018-11-07 16:55:04 -0700 <AccessForce> LOL we found this article because an anti-abortion site told us that Glamour had named Kamala Harris \"Abortion Activist of the Year.\" Anyway we love Kamala Harris!  https://t.co/DkBA2rbWss\n",
      "1060319737912139776 2018-11-07 16:54:59 -0700 <TommyTooTurnt_> If a woman wants to get an abortion that’s her choice.. Just like some of you men out there chose to dip out on your child &amp; let your seed become another statistic of a single parent household. 🤷🏽‍♂️\n",
      "1060319712419241984 2018-11-07 16:54:53 -0700 <owingso> @madzilla I think abortion for rape or incest seems to be only elective covered by Medicaid. The West Virginians are disgusting. I’m now wondering if it also means that when a mother’s life is in danger they won’t cover termination🤔. This is getting out of hand, if so.\n",
      "1060319679409881088 2018-11-07 16:54:46 -0700 <g_kraig> President Trump Says He Has a “Solution” to the Abortion Debate That “Nobody Else Does”  https://t.co/U3uOV3WmZ1\n",
      "1060319653900312576 2018-11-07 16:54:39 -0700 <emilyyross17> @mrmexicandude32 How do you go to church on Sundays and then vote for people who are for abortion?\n",
      "1060319627945816065 2018-11-07 16:54:33 -0700 <YourKinfolkz> The battle over abortion bills in the United States played out in voting booths Tuesday, with Alabama and West Virginia passing constitutional amendments that would restrict abortion access and Oregon handily voting to protect it.  https://t.co/0rzslu6gnN\n",
      "1060319616403042304 2018-11-07 16:54:30 -0700 <Chelleld16> Two States Voted to Outlaw Abortion if Roe v. Wade Is Nixed  https://t.co/9vEtfLF53z via @thedailybeast\n",
      "1060319596660621313 2018-11-07 16:54:26 -0700 <baconflavorsoap> @charclar729 @Spinphin @Alyssa_Milano That's completely different, and your case is less than 10% of abortions. Most are done for convenience.\n",
      "1060319596400521216 2018-11-07 16:54:26 -0700 <blondedweisz> i think canada’s conservative party not trying to regulate abortion is a huge reason behind the political/cultural differences between canada and america\n",
      "1060319566423834625 2018-11-07 16:54:19 -0700 <eringhere> Two states passed abortion amendments to their constitutions. What does that mean? @CNN  https://t.co/mwEQOAqEUC\n",
      "1060319539223773184 2018-11-07 16:54:12 -0700 <AlexanderKaty> @centerleftcoas1 @LoveAlw28s @johnlegend Because of abortion. All those Republicans are antiabortion. They don't care about anything else, besides open gun rules.\n",
      "1060319506319327232 2018-11-07 16:54:04 -0700 <HospRecruiting> Obamacare plans need to bill separately for 'abortion' surcharge, CMS proposes  https://t.co/YVnJis6zc3  https://t.co/KDZrtPxV54\n",
      "1060319491316428810 2018-11-07 16:54:01 -0700 <discount_goblin> For those who are uneducated, plan B is NOT an abortion pill. It will not stop an already fertilized egg from growing into a fetus !!! This is madness !!\n",
      "[!] No more data! Scraping will stop now.\n",
      "found 0 deleted tweets in this search.\n"
     ]
    }
   ],
   "source": [
    "c.Since = '2018-10-01'\n",
    "c.Until = '2018-11-08'\n",
    "\n",
    "c.Output = \"abortionTweets2018.csv\"\n",
    "c.Store_csv = True\n",
    "\n",
    "twint.run.Search(c)"
   ]
  },
  {
   "cell_type": "code",
   "execution_count": 9,
   "metadata": {},
   "outputs": [
    {
     "name": "stdout",
     "output_type": "stream",
     "text": [
      "1192592548012933120 2019-11-07 16:59:55 -0700 <JerryRBarton> Franklin Graham: Christians Must “Vote Against the Godless, Socialist Agenda” of the Abortion Industry  https://t.co/dsqw0xhUk3\n",
      "1192592424725622784 2019-11-07 16:59:26 -0700 <haleybean2017> @ItsJustJill @wvufanagent99 They want abortion .no more contributions to that hospital.never take your baby there nurses don’t seem about the patients .\n",
      "1192592407839334400 2019-11-07 16:59:21 -0700 <BoulevardBlog> @ScottMcDonnell_ @boston25 I didn’t know cuddling babies was a partisan thing. I guess they’d prefer she visit an abortion clinic and help clean up after a procedure?\n",
      "1192592403594719232 2019-11-07 16:59:20 -0700 <queen_beezyy> Then don’t get pregnant . Y’all be using abortions as bc and it’s sickening.\n",
      "1192592367687290880 2019-11-07 16:59:12 -0700 <RHAVote> An abortion needs funding! Throw a few bucks in if you can and let's get this funded, almost there! The sooner we do, the sooner this person will know they're going to be able to get care.\n",
      "1192592362284838914 2019-11-07 16:59:11 -0700 <NotReallyABear2> @jezmundzmusic @BrandonGroves_3 An interesting experiment for you if you’re ever bored: argue the prolife perspective with a pro abortion group.  The things they say shock me, and it almost always goes there, at least on social media. Don’t say anything inflammatory, either. Keep it vanilla. Tumor is tame.\n",
      "1192592293099982848 2019-11-07 16:58:54 -0700 <JayOwenF13> @mark_gander3 @antiwarmisfit @AbbyHuntsman I campaigned for Ron Paul...now i wish he was strongly pro abortion between oct. 29th 1962 to January 7th 1963...💬\n",
      "1192592244773203968 2019-11-07 16:58:43 -0700 <Dillon_Love9> I ain’t seen so many people coming at me and mad over a fish since the once every few months y’all argue about abortions and opening gates.\n",
      "1192592222987923456 2019-11-07 16:58:37 -0700 <DaManDaLegen> @BKOellig @maman_de_isla @baimcpher I have trouble believing you.   Surely there is a middle ground between the 2 sides.... ie;  abortion is fine up to 15 weeks for instance.   But surely you don’t agree that a woman in her 9th month should abort.  At that stage... SURELY.... you are on the side of adoption.\n",
      "1192592197960577024 2019-11-07 16:58:31 -0700 <Alexihkal> @NateAFischer @TPCarney @PeteButtigieg In the case of abortion it is, if you accept that it the thing being killed is \"someone\". But from a judicial perspective it's completely irrelevant whether or not abortion is morally murder. Law is not morality. It's a set of rules.\n",
      "1192592184265953280 2019-11-07 16:58:28 -0700 <fijitimes> A Fijian woman or girl who is a victim of rape or incest has the right to have an abortion. #HumanRightsCouncil  #TimesNews #FijiNews  https://t.co/rmYx1oJ9YX\n",
      "1192592114661486592 2019-11-07 16:58:12 -0700 <writerguyfromLA> @Lucifersonofdad Poster kids why abortion is a necessary procedure.\n",
      "1192592096290492416 2019-11-07 16:58:07 -0700 <CelcoStapler> @sir_mycroft @michaelmalice Because black people can get abortions? Or because when it started over 50 years ago there were racists?  Because that seems to be your all  arguments.  How about something comparable to say... Arthur Jones.\n",
      "1192592011037155328 2019-11-07 16:57:47 -0700 <Steve_Forreal> @RudyGiuliani People aren’t really stupid enough to believe that Trump is pro God, right? You don’t have to say it out loud, but ask yourself how many scared young women Trump has likely pressured and paid off to have his abortions?\n",
      "1192591999221682176 2019-11-07 16:57:44 -0700 <redusa21> Abortion: directly &amp; intentionally taking the life of an unique, precious, innocent, defenseless human being was wrong                is wrong                  will always be wrong.\n",
      "1192591965340069888 2019-11-07 16:57:36 -0700 <Hebrews_13_15> @rey_atl investigation and arrest and prosecute whatever dirtbag raped whoever. With Planned Parenthood, (an organization I think we both agree desperately needs to be defunded), you walk in after a rape, get an abortion, no investigation, no prosecution, barbarism continues.\n",
      "1192591948512661504 2019-11-07 16:57:32 -0700 <assmy__> Screamin burlesque was amazing tonight and it was so good to celebrate the north getting abortion rights and equal marriage 💖🏳️‍🌈  https://t.co/jmkKOHppmw\n",
      "1192591940329586689 2019-11-07 16:57:30 -0700 <Freckled_Smudge> Abortion IS MURDER!...IS IMMORAL! ...IS EVIL!\n",
      "1192591903201677313 2019-11-07 16:57:21 -0700 <JohnWilmhoff> @dcb04 The issues that Bevin claimed to be on the ballot will not impact the state with Cameron as AG and a Republican majority. Abortion will ultimately be decided by Supreme Court. The Governor’s office can impact education more than any of the other prominent issues.\n",
      "1192591858804908032 2019-11-07 16:57:11 -0700 <jparktrigthere> @JAYBUMAOM are you for or against abortion?\n",
      "[!] No more data! Scraping will stop now.\n",
      "found 0 deleted tweets in this search.\n"
     ]
    }
   ],
   "source": [
    "c.Since = '2019-10-01'\n",
    "c.Until = '2019-11-08'\n",
    "\n",
    "c.Output = \"abortionTweets2019.csv\"\n",
    "c.Store_csv = True\n",
    "\n",
    "twint.run.Search(c)"
   ]
  },
  {
   "cell_type": "code",
   "execution_count": 10,
   "metadata": {},
   "outputs": [
    {
     "name": "stdout",
     "output_type": "stream",
     "text": [
      "1325226507355234305 2020-11-07 16:59:55 -0700 <ilsenotelsa> Polish women have protested the new abortion ban law to the extent that Poland may have to change or reverse the law completely. They won’t work, clean, go to the store, they won’t do anything besides protest every single day. I am SO SO SO proud to be a Polish woman.\n",
      "1325226492280905728 2020-11-07 16:59:51 -0700 <KerryTresise> She does NOT have to justify why she is having an abortion because her circumstances are NONE OF YOUR BUISNESS!\n",
      "1325226484890480641 2020-11-07 16:59:50 -0700 <masterbearjedi> Are they a woman who heard Joe Biden say “the answer is there has to be some kind of punishment” as Trump did on March 30, 2016 when asked whether women should be punished for having abortions if the procedure becomes illegal?\n",
      "1325226481874821120 2020-11-07 16:59:49 -0700 <bruce_schlink> Biden says he’ll join pro-abortion Paris Climate Agreement as soon as he’s president | News | Lifesitenews  https://t.co/FBXEm1PKz6  A lot people don't relies that abortion and climate movement are part of the same agenda because the more people that are born the more fossil fuel\n",
      "1325226458101518337 2020-11-07 16:59:43 -0700 <Jasgagger> dude on my snapchat posting pictures of dead babies on his story saying that biden is gonna make 2 year old abortion illegals\n",
      "1325226449205399555 2020-11-07 16:59:41 -0700 <brandt_mike> Biden Says Taxpayers Must Pay for Abortions  https://t.co/xt0cgM3Hy1\n",
      "1325226440237875200 2020-11-07 16:59:39 -0700 <n0tcr3ative> @citigyal i’m down to legalize abortion in the 100+ term\n",
      "1325226429081145345 2020-11-07 16:59:36 -0700 <mds2cents> The whole 'decency' thing was a #Democrat &amp; fake-news media ploy to get gullible types like you to hate #Trump. They tried everything but decency... that was a joke.  What's indecent is what's shown in movies &amp; on TV every day but none of you seem to care.  Indecent is abortion!\n",
      "1325226409086902273 2020-11-07 16:59:32 -0700 <Anthony66499826> @DevinsCat1 @ReebX1 I'm afraid for so many now in KS. Democrats will lose what power we have when Redistricting goes full Gerrymander. Then they enact draconian abortion laws like prosecutions for miscarriages, death penalty for abortion. I'll sell and leave.\n",
      "1325226405102301188 2020-11-07 16:59:31 -0700 <FrederickBasti6> @PaulSPurvis How do you believe Joe Biden owns multiple million dollar homes on a government salary? What do you think the result will be when he packs the courts with pro abortion, pro gay marriage, pro transgender surgery at age 8 judges who will drive Christianity out of public square?\n",
      "1325226360671854592 2020-11-07 16:59:20 -0700 <faithofthrones> @matheny_brenda @Franklin_Graham People who vote for Biden are blind.. it’s obvious if you read your Bible I ain’t judging you.. Biden supports abortion full term .. trump does not. Sex education in school.. trump wants abstinence promoted in school. Biden wants god out.. trump wants god in. It’s that simple.\n",
      "1325226343529930752 2020-11-07 16:59:16 -0700 <runelitburst> @bigalsbigart I hope it is a lie. Lots of things these days love to lie. Though I was told most Democrats support abortion but I don't. Only if the baby is about to die on the inside of the mother I guess because that is depressing.\n",
      "1325226341793472512 2020-11-07 16:59:16 -0700 <OddSenseOfHumor> @dpakman Quiet fool! First we have to get cannabis use made compulsory, the drive through abortion clinics set up and the \"Immigrants pick any home to take over\" initiative to set up before we do any of those!\n",
      "1325226301444268033 2020-11-07 16:59:06 -0700 <ajzeigler> Celebrating electing Catholics is ridiculous when the first one was an adulterous scoundrel &amp; the second one has been rebuked by the Church for his abortion stance. Acting like you care when you slandered Barrett mere weeks ago, a woman of actual integrity, is so transparent.\n",
      "1325226288198672386 2020-11-07 16:59:03 -0700 <ahcros> @DawnofMercy @Chris_Buckley Yes, and now, babies born alive after abortion, the tough survivors, now will be left to die, and those who deny care to them, protected in law...not now, but it's coming... You proud of that? Leaving a baby to die in a pool of blood or dismemberment?\n",
      "1325226279386353665 2020-11-07 16:59:01 -0700 <love_wza> @Superbazzy Abortion still legal 😭😭\n",
      "1325226271287152641 2020-11-07 16:58:59 -0700 <S_537> @Brando_Guenther @JamesMartinSJ @JoeBiden @KamalaHarris But it's ok 2 strip babies from mothers, 3X divorce &amp; cheat on all 3, pay off porn star, pretend to be Xian, shoot innocents 2 get pic in front church (which he doesn't attend) encourage rape, murder, violence &amp; pedophilia? How many abortions has Trump created? Brando go away\n",
      "1325226271211614209 2020-11-07 16:58:59 -0700 <LisaLFlinders> @MikeVanstory @megynkelly Right. Abortion separates kids from parents. It’s wrong.\n",
      "1325226267633983488 2020-11-07 16:58:58 -0700 <NehiMomma> @iwasmmueller88 @hawkriver @tomwatson @welca And the extreme conservative, fundie, ultra religious (not just Christian but also Muslim &amp; Jewish too) unintentionally promote abortion when they try to use shame to stop them...by making unmarried pregnant women the most sinful person to point fingers at.\n",
      "1325226263443697665 2020-11-07 16:58:57 -0700 <Eldermld1> Seems like they swat at a gnat, abortion, but swallow a camel, greed, avarice, the love of money that is behind conservative policies that is causing so much suffering. Get the camel out of the tent and you will eliminate the gnats.\n",
      "1325226255780896772 2020-11-07 16:58:55 -0700 <DoomSperg> There’s no such thing as a safe or healthy abortion.\n",
      "1325226238999457794 2020-11-07 16:58:51 -0700 <LiesKillTheSoul> @nanette_leonard @avtrask @40AcresBuilt And God is graceful.  It seems to me crazy to scream about abortion and not allow birth control.  Something has got to give.\n",
      "1325226233383190528 2020-11-07 16:58:50 -0700 <reinhard75> @CNN abortion. Democrats. Baby killers\n",
      "1325226221760897030 2020-11-07 16:58:47 -0700 <mickrichard89> @MxM1ck No, actually he has prevented taxpayers from funding abortions.\n",
      "1325226197786112000 2020-11-07 16:58:41 -0700 <TheRightColumn> @Alisteinberg123 @BryanJFischer @ktumulty @GlennKesslerWP I identify as a woman during these conversations, and as such can tell you he is absolutely right to oppose abortion.\n",
      "1325226185002012679 2020-11-07 16:58:38 -0700 <JaneTheLionDoe> I know my mom was bleeding tf out wishing she had that abortion but I’m glad we both made it 🙏🏾🙏🏾\n",
      "1325226179134156813 2020-11-07 16:58:37 -0700 <Luludutexas> @catgirlveil How do people not get this? Even my 15-year-old daughter understands that where people can stand on abortion and not wanting the government to dictate or two different things.\n",
      "1325226166958108673 2020-11-07 16:58:34 -0700 <newman_fj> Trumpers who want to move to Canada 🇨🇦   1- We have same sex marriage and abortion rights  2– We don't rip babies from their immigrant parents and throw them in  cages  3- We welcome immigrants from all over the world  4- We have socialised healthcare  5- We legalized Pot\n",
      "1325226158078701574 2020-11-07 16:58:32 -0700 <sidneyaddisonn_> @bryvna @am4ber__ For or against abortion, no one should ever wish that on someone. Shame on you for being proud of saying this.\n",
      "1325226135790219269 2020-11-07 16:58:26 -0700 <Dakotapup1> @Spooks_AD Maybinplease have a source for this. I want to slide back onto my conservative anti abortion mom's Facebook and hit her trump supporting head with this.\n",
      "1325226113396830211 2020-11-07 16:58:21 -0700 <ProLifertarian> @HKBelvedere @SrslyAdamSmith @drtigerjoseph Equally as disgusted. The Church needs leadership with balls like Archbishop Viganó, who will call out abortion pushers and pedophiles for what they are... agents of Satan.\n",
      "1325226079909519363 2020-11-07 16:58:13 -0700 <JohnMur77242087> @caisecaise @JKBayern21 @realDonaldTrump HAHAHAHAHA don’t bother. No one wants you here. We have gay rights, strict gun laws, woman’s abortion rights. We stand against everything trump wants so we will un politely reject that\n",
      "1325226075560013824 2020-11-07 16:58:12 -0700 <RobTheYankee> @Jerzee_Joe26 I have no problem with gun ownership, I personally wouldn’t own one. But I respect ones right to own one. I’m a democrat who doesn’t have a problem with guns, abortion, or the death penalty.\n",
      "1325226066294710272 2020-11-07 16:58:10 -0700 <TammyMLC> Medical &amp; Law professions standing in support of #saparli Bill to decriminalise abortion.\n",
      "1325226065636233216 2020-11-07 16:58:10 -0700 <flat_stanleyxo> @Ant_Dale86 @JustJeremyHeyYo He will, he’s gonna protect our right to marry whoever tf we want and protect women’s right to abortion!!!!\n",
      "1325226061001453570 2020-11-07 16:58:09 -0700 <NuncVideo> @FraserHammond @KMCRadio Go study who is pushing contraceptives on women in Africa. There's nothing benign about it. It's always about abortion. I'm not going to try to cite all the links here. Not my job. It's VERY well documented.\n",
      "1325226055632904192 2020-11-07 16:58:07 -0700 <HuwiteBoi> @RealMattCouch Religion is dead, isn’t the Pope down with abortion?\n",
      "1325226046665461760 2020-11-07 16:58:05 -0700 <buffalonygal> @dbongino Honesty I feel bad for this guy &amp; I don’t say that sarcastically. He actually buys what the left is selling. Wait until he sees that THEY are actually the racists who have gotten “nastier &amp; nastier.” &amp; THEY are the ones trying to decimate black communities by encouraging abortion\n",
      "1325226046468337666 2020-11-07 16:58:05 -0700 <TinyChurchMouse> @thereald0tt @ProLifeAll @notabananaanna If YOUR goal is to limit &amp; end abortions, why would you elect a president that drove society to such a dark place that MORE women believed abortion was their best option?\n",
      "1325226043972653056 2020-11-07 16:58:05 -0700 <Xtianrooy> This could have been averted if she saw abortion as an option or with the use of Family Planning. But is the society really supportive of people having a planned pregnancy? If yes, what happens to an unplanned pregnancy?\n"
     ]
    },
    {
     "name": "stdout",
     "output_type": "stream",
     "text": [
      "1325226024314036225 2020-11-07 16:58:00 -0700 <RoastLamb27> @LisaAFahy @JamesMartinSJ @USCCB @JoeBiden @KamalaHarris No one SUPPORTS ABORTION. The Dems are PRO CHOICE. Massive difference. Educate yourself.\n",
      "1325225976779796481 2020-11-07 16:57:49 -0700 <JCduuude> Remember if you voted for Biden your voted for:  -pro abortion 23wks -open borders  -high taxes -defund the police -pro child trafficking -lockdowns  -National mask mandates -pro wars -anti school choice -school lock down -socialism  -anti religion -anti gun -illegal immigration\n",
      "1325225974816976897 2020-11-07 16:57:48 -0700 <cjcoreschi> @gr8ftblr People vote against their own self-interest all the time. Women voting anti-abortion, poor people voting for a rich white dude cutting taxes for rich white dudes and cutting social services they depend upon. Political ignorance and single-issue voting.\n",
      "1325225907108405253 2020-11-07 16:57:32 -0700 <RoastLamb27> @kelly_justkel @JamesMartinSJ @USCCB @JoeBiden @KamalaHarris No one is PRO ABORTION. PRO CHOICE is the correct term. Educate yourself.\n",
      "1325225906479230976 2020-11-07 16:57:32 -0700 <ALGORHYTHM_95> @WesleyAdi As Christians i think we should def Put more funding towards organizations that assist single mothers, Especially those considering abortions. they exist but for some reason they aren’t as well known\n",
      "1325225900036681728 2020-11-07 16:57:30 -0700 <fraanncis_> we can still get abortions 🥳\n",
      "1325225895968210944 2020-11-07 16:57:29 -0700 <alvinSeven77> @kate_sheridan @marklevinshow @realDonaldTrump Hi. We shall see but God's will be done, not our will :-)  It may not be prudent and wise to bring children to sir @JoeBiden 's it's known that they do post-birth abortions (aside from d multi-millions of aborted unborns &amp; half-borns).   Stay safe always.   https://t.co/y92l9LNCAs\n",
      "1325225894693244929 2020-11-07 16:57:29 -0700 <starchaser57> These Liberal hypocrite pretend to care about so-called children in cages, but they are perfectly fine with children pieces before. I Abortion doesn’t bother the hyprocrites one bit. They will answer to God for this\n",
      "1325225864116703232 2020-11-07 16:57:22 -0700 <deeannslinkard> @Koehn_21 @AjKFAN Stop spreading lies. NO decent human being, Democrat or Republican or neither, supports “infanticide.” Please read the Dem Party platform on a woman’s right to choose her reproductive healthcare. And then learn what actually reduces abortions. Hint: it’s NOT making them illegal.\n",
      "1325225839320068106 2020-11-07 16:57:16 -0700 <VyleRuse> Think I’m gonna knock my chick up and get an abortion just cuzz\n",
      "1325225834886520832 2020-11-07 16:57:15 -0700 <AntiMatterMan2> @michellemalkin Maybe burning Biden/Harris flags is not out of place.    Harris voted against the abortion ban for pregnancies beyond 22 weeks.  She a socialist and extreme-left That is the President that Progressives want...  Fox continues to state that Biden won.  Unbelievable.\n",
      "1325225819451568133 2020-11-07 16:57:11 -0700 <Seanfucious> @ahardtospell (Except for issues concerning abortion.  There’s a reason that’s the only issue in tradition republicanism that Trump made sure he paid attention to)\n",
      "1325225818230935557 2020-11-07 16:57:11 -0700 <MrsTinaMeena> You know it's interesting to see someone I helped through an abortion, now wants to spew scriptures and talks about how all democrats want to do is kill babies. Would I ever have an abortion, no, but I support women having the right to choose.\n",
      "1325225814590443520 2020-11-07 16:57:10 -0700 <JeffTranzillo> @NoahGrayCNN @donlemon Good case for legal late late late abortions to me 😆 🤣 😂\n",
      "1325225795892219904 2020-11-07 16:57:05 -0700 <Pada1r> @meaningofcath For too long, far too many Bishops have dined at the state table. I'll scratch your back, you scratch mine. Biden's program on abortion should be enough to see him ex-communicated, but these heretics can't bend over backwards enough for him.\n",
      "1325225793312727042 2020-11-07 16:57:05 -0700 <SMiller9867> @StracheyLytton @grover_lou @conservmillen @politicalelle LOL a real Christian would never support abortion.\n",
      "1325225789692866560 2020-11-07 16:57:04 -0700 <Burch384> @ashleylaurennn @jemelehill If you don’t believe in abortion that’s fine, but not everyone has the same religious beliefs as you. Your religious beliefs should guide YOUR life; no one else’s\n",
      "1325225763696676867 2020-11-07 16:56:58 -0700 <RedsoxDevers> @toddvs35 Why does he support abortions then?\n",
      "1325225721585807360 2020-11-07 16:56:48 -0700 <CarlosDGChh> @esdulcenombre @americamag He is. Being pro abortion automatically excomunnicated him. Excommunication ipso facto.\n",
      "[!] No more data! Scraping will stop now.\n",
      "found 0 deleted tweets in this search.\n"
     ]
    }
   ],
   "source": [
    "c.Since = '2020-10-01'\n",
    "c.Until = '2020-11-08'\n",
    "\n",
    "c.Output = \"abortionTweets2020.csv\"\n",
    "c.Store_csv = True\n",
    "\n",
    "twint.run.Search(c)"
   ]
  },
  {
   "cell_type": "code",
   "execution_count": null,
   "metadata": {},
   "outputs": [],
   "source": []
  },
  {
   "cell_type": "code",
   "execution_count": null,
   "metadata": {},
   "outputs": [],
   "source": []
  },
  {
   "cell_type": "code",
   "execution_count": null,
   "metadata": {},
   "outputs": [],
   "source": []
  }
 ],
 "metadata": {
  "kernelspec": {
   "display_name": "Python 3",
   "language": "python",
   "name": "python3"
  },
  "language_info": {
   "codemirror_mode": {
    "name": "ipython",
    "version": 3
   },
   "file_extension": ".py",
   "mimetype": "text/x-python",
   "name": "python",
   "nbconvert_exporter": "python",
   "pygments_lexer": "ipython3",
   "version": "3.8.5"
  }
 },
 "nbformat": 4,
 "nbformat_minor": 4
}
