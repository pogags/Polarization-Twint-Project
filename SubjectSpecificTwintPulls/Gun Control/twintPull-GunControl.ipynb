{
 "cells": [
  {
   "cell_type": "code",
   "execution_count": 1,
   "metadata": {},
   "outputs": [],
   "source": [
    "import twint\n",
    "import nest_asyncio\n",
    "\n",
    "nest_asyncio.apply()\n",
    "\n",
    "c = twint.Config()\n",
    "c.Search = \"gun control\"\n",
    "c.Limit = 500\n",
    "\n",
    "c.Since = '2016-10-01'\n",
    "c.Until = '2016-11-08'\n",
    "\n",
    "c.Custom[\"tweet\"]=[\"id\",\"created_at\",\"username\",\"tweet\"]\n",
    "c.Hide_output = True\n",
    "c.Output = \"gunTweets2016.csv\"\n",
    "c.Store_csv = True\n",
    "\n",
    "twint.run.Search(c)"
   ]
  },
  {
   "cell_type": "code",
   "execution_count": 2,
   "metadata": {},
   "outputs": [],
   "source": [
    "c.Since = '2017-10-01'\n",
    "c.Until = '2017-11-08'\n",
    "\n",
    "c.Output = \"gunTweets2017.csv\"\n",
    "c.Store_csv = True\n",
    "\n",
    "twint.run.Search(c)"
   ]
  },
  {
   "cell_type": "code",
   "execution_count": 3,
   "metadata": {},
   "outputs": [],
   "source": [
    "c.Since = '2018-10-01'\n",
    "c.Until = '2018-11-08'\n",
    "\n",
    "c.Output = \"gunTweets2018.csv\"\n",
    "c.Store_csv = True\n",
    "\n",
    "twint.run.Search(c)"
   ]
  },
  {
   "cell_type": "code",
   "execution_count": 4,
   "metadata": {},
   "outputs": [],
   "source": [
    "c.Since = '2019-10-01'\n",
    "c.Until = '2019-11-08'\n",
    "\n",
    "c.Output = \"gunTweets2019.csv\"\n",
    "c.Store_csv = True\n",
    "\n",
    "twint.run.Search(c)"
   ]
  },
  {
   "cell_type": "code",
   "execution_count": 5,
   "metadata": {},
   "outputs": [],
   "source": [
    "c.Since = '2020-10-01'\n",
    "c.Until = '2020-11-08'\n",
    "\n",
    "c.Output = \"gunTweets2020.csv\"\n",
    "c.Store_csv = True\n",
    "\n",
    "twint.run.Search(c)"
   ]
  },
  {
   "cell_type": "code",
   "execution_count": null,
   "metadata": {},
   "outputs": [],
   "source": []
  },
  {
   "cell_type": "code",
   "execution_count": null,
   "metadata": {},
   "outputs": [],
   "source": []
  },
  {
   "cell_type": "code",
   "execution_count": null,
   "metadata": {},
   "outputs": [],
   "source": []
  }
 ],
 "metadata": {
  "kernelspec": {
   "display_name": "Python 3",
   "language": "python",
   "name": "python3"
  },
  "language_info": {
   "codemirror_mode": {
    "name": "ipython",
    "version": 3
   },
   "file_extension": ".py",
   "mimetype": "text/x-python",
   "name": "python",
   "nbconvert_exporter": "python",
   "pygments_lexer": "ipython3",
   "version": "3.8.5"
  }
 },
 "nbformat": 4,
 "nbformat_minor": 4
}
